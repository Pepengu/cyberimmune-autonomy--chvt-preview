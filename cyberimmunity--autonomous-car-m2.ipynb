{
 "cells": [
  {
   "attachments": {},
   "cell_type": "markdown",
   "metadata": {
    "datalore": {
     "hide_input_from_viewers": false,
     "hide_output_from_viewers": false,
     "node_id": "0RJSlfIlixBX3VaSDV2gM0",
     "report_properties": {
      "y": 0
     },
     "type": "MD"
    }
   },
   "source": [
    "# Кибериммунная автономность$\\\\$Создание конструктивно защищённого автономного наземного транспортного средства$\\\\$Модуль 2\n",
    "\n",
    "## О документе\n",
    "\n",
    "Версия 1.03\n",
    "\n",
    "Модуль 2 для регионального этапа соревнований по кибериммунной автономности"
   ]
  },
  {
   "cell_type": "markdown",
   "metadata": {},
   "source": [
    "## Подготовка к работе c модулем 2\n",
    "\n",
    "Перенесите в блок ниже ваши реализации классов коммуникационного шлюза (CommunicationGateway), систему навигации (NavigationSystem), управления (ControlSystem)"
   ]
  },
  {
   "cell_type": "code",
   "execution_count": 17,
   "metadata": {},
   "outputs": [],
   "source": [
    "from multiprocessing import Queue\n",
    "from src.communication_gateway import BaseCommunicationGateway\n",
    "from src.config import CONTROL_SYSTEM_QUEUE_NAME, SERVOS_QUEUE_NAME, CONTROL_SYSTEM_QUEUE_NAME, CARGO_BAY_QUEUE_NAME\n",
    "from src.event_types import Event\n",
    "from src.control_system import BaseControlSystem\n",
    "from src.navigation_system import BaseNavigationSystem\n",
    "\n",
    "\n",
    "class CommunicationGateway(BaseCommunicationGateway):\n",
    "    \"\"\"CommunicationGateway класс для реализации логики взаимодействия\n",
    "    с системой планирования заданий\n",
    "\n",
    "    Работает в отдельном процессе, поэтому создаётся как наследник класса Process\n",
    "    \"\"\"\n",
    "    def _send_mission_to_consumers(self):\n",
    "        \"\"\" метод для отправки сообщения с маршрутным заданием в систему управления \"\"\"\n",
    "        \n",
    "        # имена очередей блоков находятся в файле src/config.py\n",
    "        # события нужно отправлять в соответствие с диаграммой информационных потоков\n",
    "        control_q_name = CONTROL_SYSTEM_QUEUE_NAME\n",
    "\n",
    "        # события передаются в виде экземпляров класса Event, \n",
    "        # описание класса находится в файле src/event_types.py\n",
    "        event = Event(source=BaseCommunicationGateway.event_source_name,\n",
    "                      destination=control_q_name,\n",
    "                      operation=\"set_mission\", parameters=self._mission\n",
    "                      )\n",
    "\n",
    "        # поиск в каталоге нужной очереди (в данном случае - системы управления)\n",
    "        control_q: Queue = self._queues_dir.get_queue(control_q_name)\n",
    "        # отправка события в найденную очередь\n",
    "        control_q.put(event)\n",
    "\n",
    "\n",
    "class ControlSystem(BaseControlSystem):\n",
    "    \"\"\"ControlSystem блок расчёта управления \"\"\"\n",
    "\n",
    "    def _send_speed_and_direction_to_consumers(self, speed, direction):\n",
    "        servos_q_name = SERVOS_QUEUE_NAME\n",
    "        servos_q: Queue = self._queues_dir.get_queue(servos_q_name)\n",
    "\n",
    "        # инициализация сообщения с желаемой скоростью\n",
    "        event_speed = Event(\n",
    "            source=self.event_source_name,\n",
    "            destination=servos_q_name,\n",
    "            operation=\"set_speed\",\n",
    "            parameters=speed\n",
    "        )\n",
    "\n",
    "        # отправка сообщения с желаемым направлением\n",
    "        event_direction = Event(\n",
    "            source=self.event_source_name,\n",
    "            destination=servos_q_name,\n",
    "            operation=\"set_direction\",\n",
    "            parameters=direction\n",
    "        )\n",
    "\n",
    "        servos_q.put(event_speed)\n",
    "        servos_q.put(event_direction)\n",
    "\n",
    "    def _lock_cargo(self):\n",
    "        \"\"\" заблокировать грузовой отсек \"\"\"\n",
    "        cargo_q = self._queues_dir.get_queue(CARGO_BAY_QUEUE_NAME)\n",
    "        # инициализация сообщения с командой на блокировку грузового отсека\n",
    "        event = Event(\n",
    "            source=self.event_source_name,\n",
    "            destination=CARGO_BAY_QUEUE_NAME,\n",
    "            operation=\"lock_cargo\",\n",
    "            parameters=None\n",
    "        )\n",
    "        cargo_q.put(event)\n",
    "\n",
    "    def _release_cargo(self):\n",
    "        \"\"\" открыть грузовой отсек \"\"\"\n",
    "        cargo_q = self._queues_dir.get_queue(CARGO_BAY_QUEUE_NAME)\n",
    "        # инициализация сообщения с командой на блокировку грузового отсека\n",
    "        event = Event(\n",
    "            source=self.event_source_name,\n",
    "            destination=CARGO_BAY_QUEUE_NAME,\n",
    "            operation=\"release_cargo\",\n",
    "            parameters=None\n",
    "        )\n",
    "        cargo_q.put(event)     \n",
    "\n",
    "\n",
    "class NavigationSystem(BaseNavigationSystem):\n",
    "    \"\"\" класс навигационного блока \"\"\"\n",
    "    def _send_position_to_consumers(self):        \n",
    "        control_q_name = CONTROL_SYSTEM_QUEUE_NAME\n",
    "        event = Event(\n",
    "            source=self.event_source_name,\n",
    "            destination=CONTROL_SYSTEM_QUEUE_NAME,\n",
    "            operation=\"position_update\",\n",
    "            parameters=self._position\n",
    "        )\n",
    "        control_q: Queue = self._queues_dir.get_queue(control_q_name)\n",
    "        control_q.put(event)"
   ]
  },
  {
   "cell_type": "markdown",
   "metadata": {},
   "source": [
    "Если у вас настроена и работает СУПА, установите в True значение переменной afcs_present"
   ]
  },
  {
   "cell_type": "code",
   "execution_count": 18,
   "metadata": {},
   "outputs": [],
   "source": [
    "afcs_present = True"
   ]
  },
  {
   "cell_type": "markdown",
   "metadata": {},
   "source": [
    "В этом модуле изменим идентификатор машинки:"
   ]
  },
  {
   "cell_type": "code",
   "execution_count": 19,
   "metadata": {},
   "outputs": [],
   "source": [
    "car_id = \"m2\" "
   ]
  },
  {
   "cell_type": "markdown",
   "metadata": {},
   "source": [
    "### Модуль 2. Отправка маршрутного здания и следование по маршруту\n",
    "\n",
    "В рамках этого модуля отрабатывается только автономность. \n",
    "Никаких киберпрепятствий пока не будет. \n",
    "\n",
    "Что нужно сделать по пунктам:\n",
    "1. Для заданных начальных и конечных точек создать маршрут, содержащий не менее пяти промежуточных путевых точек вручную или с использованием таких инструментов как APMPlanner, MissionPlanner. <br>Содержимое wpl файла нужно вставить в соответствующий кодовый блок блокнота, запустить симуляцию и убедиться, что машинка успешно проходит этот маршрут.\n",
    "2. Задать скоростные ограничения в виде массива элементов GeoSpecificSpeedLimit\n",
    "3. Запустить симуляцию\n"
   ]
  },
  {
   "cell_type": "markdown",
   "metadata": {},
   "source": [
    "Формат WPL файла описан на этой странице: \n",
    "\n",
    "https://mavlink.io/en/file_formats/#mission_plain_text_file\n",
    "\n",
    "Пример содержимого файла с текстовым описанием маршрута"
   ]
  },
  {
   "cell_type": "code",
   "execution_count": 20,
   "metadata": {},
   "outputs": [],
   "source": [
    "wpl_file_content =  \"\"\"QGC WPL 110\n",
    "0\t1\t0\t16\t0\t5\t0\t0\t59.874951\t29.825225\t0\t1\n",
    "1\t0\t3\t16\t0\t5\t0\t0\t59.876145   29.828535\t0\t1\n",
    "2\t0\t3\t16\t0\t5\t0\t0\t59.876897   29.829177\t0\t1\n",
    "3\t0\t3\t16\t0\t5\t0\t0\t59.878121   29.824136\t0\t1\n",
    "4\t0\t3\t16\t0\t5\t0\t0\t59.881917   29.827542\t0\t1\n",
    "5\t0\t3\t16\t0\t5\t0\t0\t59.884427   29.827059\t0\t1\n",
    "6\t0\t3\t16\t0\t5\t0\t0\t59.886274   29.828739\t0\t1\n",
    "7   0   3   16  0   5   0   0   59.886479   29.832717   0   1\n",
    "\"\"\"\n"
   ]
  },
  {
   "cell_type": "markdown",
   "metadata": {},
   "source": [
    "Для выполнения задания в блоке ниже  \n",
    "1. замените имя файла с маршрутом (на свой), вот эту строку:\n",
    "   ```python\n",
    "   wpl_file = \"module2.wpl\"\n",
    "   ```\n",
    "2. измените список скоростных ограничений, вот этот массив:\n",
    "   ```python\n",
    "   speed_limits = [\n",
    "    GeoSpecificSpeedLimit(...\n",
    "    ```\n",
    "   \n",
    "Учтите, что вам нужно доставить груз как можно быстрее, но при этом не нарушить правила дорожного движения. \n",
    "\n",
    "Ограничения скорости\n",
    "- населённый пункт - 60 км/ч\n",
    "- пешеходная зона - 20 км/ч\n",
    "- магистраль - 110 км/ч\n",
    "\n",
    "Составьте маршрут доставки так, чтобы машинка доехала за минимальное время. Для определения оптимального маршрута допустимо пользоваться сторонними сервисами (например, Яндекс картами)."
   ]
  },
  {
   "cell_type": "code",
   "execution_count": 21,
   "metadata": {},
   "outputs": [],
   "source": [
    "# создадим wpl файл и запишем туда маршрутное задание\n",
    "wpl_file = \"module2.wpl\""
   ]
  },
  {
   "cell_type": "markdown",
   "metadata": {},
   "source": [
    "**Примечание**:\n",
    "После создания собственного маршрута удалите перезапись содержимого, чтобы не потерять свои наработки!\n"
   ]
  },
  {
   "cell_type": "code",
   "execution_count": 22,
   "metadata": {},
   "outputs": [],
   "source": [
    "with open(wpl_file, \"w\") as f:\n",
    "  f.write(wpl_file_content)"
   ]
  },
  {
   "cell_type": "markdown",
   "metadata": {},
   "source": [
    "**Напоминание**: не забудьте изменить скоростные ограничения (speed_limits) при задании маршрутного задания!"
   ]
  },
  {
   "cell_type": "code",
   "execution_count": 23,
   "metadata": {},
   "outputs": [
    {
     "name": "stdout",
     "output_type": "stream",
     "text": [
      "[Point(59.874951, 29.825225, 0.0), Point(59.876145, 29.828535, 0.0), Point(59.876897, 29.829177, 0.0), Point(59.878121, 29.824136, 0.0), Point(59.881917, 29.827542, 0.0), Point(59.884427, 29.827059, 0.0), Point(59.886274, 29.828739, 0.0), Point(59.886479, 29.832717, 0.0)]\n"
     ]
    }
   ],
   "source": [
    "from src.wpl_parser import WPLParser\n",
    "\n",
    "parser = WPLParser(wpl_file)    \n",
    "points = parser.parse()\n",
    "print(points)\n",
    "\n",
    "from src.mission_type import GeoSpecificSpeedLimit\n",
    "speed_limits = [\n",
    "    GeoSpecificSpeedLimit(0, 30),\n",
    "    GeoSpecificSpeedLimit(3, 60),\n",
    "    GeoSpecificSpeedLimit(5, 30),\n",
    "]\n",
    "\n",
    "from src.mission_planner import Mission\n",
    "\n",
    "home = points[0]\n",
    "mission = Mission(home=home, waypoints=points, speed_limits=speed_limits, armed=True)"
   ]
  },
  {
   "cell_type": "markdown",
   "metadata": {},
   "source": [
    "Запускаем симуляцию с новым маршрутным заданием"
   ]
  },
  {
   "cell_type": "code",
   "execution_count": 24,
   "metadata": {},
   "outputs": [
    {
     "name": "stdout",
     "output_type": "stream",
     "text": [
      "[ИНФО][QUEUES] создан каталог очередей\n",
      "[ИНФО][QUEUES] регистрируем очередь planner.mqtt\n",
      "[ИНФО][QUEUES] регистрируем очередь sitl.mqtt\n",
      "[ИНФО][QUEUES] регистрируем очередь planner\n",
      "[ИНФО][MISSION PLANNER] создана система планирования заданий\n",
      "[ИНФО][QUEUES] регистрируем очередь sitl\n",
      "[ИНФО][QUEUES] регистрируем очередь communication\n",
      "[ИНФО][QUEUES] регистрируем очередь control\n",
      "[ИНФО][CONTROL] создана система управления\n",
      "[ИНФО][QUEUES] регистрируем очередь navigation\n",
      "[ИНФО][QUEUES] регистрируем очередь servos\n",
      "[ИНФО][QUEUES] регистрируем очередь cargo\n",
      "[ИНФО][CARGO] создан компонент грузового отсека, отсек заблокирован\n",
      "[ИНФО][MISSION PLANNER] старт системы планирования заданий\n",
      "[ИНФО][CARGO] старт блока грузового отсека\n",
      "[ИНФО][CONTROL] старт системы управления\n",
      "[ИНФО][MISSION PLANNER] запрошена новая задача, отправляем получателям\n",
      "[ИНФО][MISSION PLANNER] новая задача отправлена в коммуникационный шлюз\n",
      "[ИНФО][CONTROL] установлена новая задача, начинаем следовать по маршруту, текущее время 15:25:54.452329\n",
      "[ИНФО][CARGO] заблокировать грузовой отсек\n",
      "[ИНФО][CARGO] грузовой отсек заблокирован\n",
      "[ИНФО][CONTROL] новая скорость 30 (была 0)\n",
      "[ИНФО][CONTROL] новое направление 54 (было 0)\n",
      "[ИНФО][CONTROL] сегмент пройден\n",
      "[ИНФО][CONTROL] новое направление 24 (было 54)\n",
      "[ИНФО][CONTROL] новое направление 23 (было 24)\n",
      "[ИНФО][CONTROL] новое направление 22 (было 23)\n",
      "[ИНФО][CONTROL] новое направление 21 (было 22)\n",
      "[ИНФО][CONTROL] сегмент пройден\n",
      "[ИНФО][CONTROL] новое направление 296 (было 21)\n",
      "[ИНФО][CONTROL] новое направление 295 (было 296)\n",
      "[ИНФО][CONTROL] новое направление 294 (было 295)\n",
      "[ИНФО][CONTROL] сегмент пройден\n",
      "[ИНФО][CONTROL] новая скорость 60 (была 30)\n",
      "[ИНФО][CONTROL] новое направление 24 (было 294)\n",
      "[ИНФО][CONTROL] новое направление 25 (было 24)\n",
      "[ИНФО][CONTROL] сегмент пройден\n",
      "[ИНФО][CONTROL] новое направление 354 (было 25)\n",
      "[ИНФО][CONTROL] новое направление 353 (было 354)\n",
      "[ИНФО][CONTROL] новое направление 352 (было 353)\n",
      "[ИНФО][CONTROL] сегмент пройден\n",
      "[ИНФО][CONTROL] новая скорость 30 (была 60)\n",
      "[ИНФО][CONTROL] новое направление 24 (было 352)\n",
      "[ИНФО][CONTROL] новое направление 25 (было 24)\n",
      "[ИНФО][CONTROL] новое направление 26 (было 25)\n",
      "[ИНФО][CONTROL] новое направление 27 (было 26)\n",
      "[ИНФО][CONTROL] сегмент пройден\n",
      "[ИНФО][CONTROL] новое направление 83 (было 27)\n",
      "[ИНФО][CONTROL] новое направление 84 (было 83)\n",
      "[ИНФО][CONTROL] новое направление 85 (было 84)\n",
      "[ИНФО][CONTROL] маршрут пройден, текущее время 15:28:52.052767\n",
      "[ИНФО][CONTROL] новая скорость 0.0 (была 30)\n",
      "[ИНФО][CONTROL] новое направление 0 (было 85)\n",
      "[ИНФО][CARGO] выгрузка\n",
      "[ИНФО][CARGO] груз оставлен\n"
     ]
    }
   ],
   "source": [
    "from time import sleep\n",
    "from geopy import Point as GeoPoint\n",
    "\n",
    "\n",
    "from src.queues_dir import QueuesDirectory\n",
    "from src.servos import Servos\n",
    "from src.sitl import SITL\n",
    "from src.cargo_bay import CargoBay\n",
    "from src.mission_planner import MissionPlanner\n",
    "from src.config import LOG_ERROR, LOG_INFO\n",
    "from src.mission_planner_mqtt import MissionSender\n",
    "from src.sitl_mqtt import TelemetrySender\n",
    "from src.system_wrapper import SystemComponentsContainer\n",
    "\n",
    "\n",
    "# координата текущего положения машинки\n",
    "home = GeoPoint(latitude=points[0].latitude, longitude=points[0].longitude) \n",
    "\n",
    "\n",
    "# каталог очередей для передачи сообщений между блоками\n",
    "queues_dir = QueuesDirectory() \n",
    "\n",
    "if afcs_present:\n",
    "    mission_sender = MissionSender(\n",
    "        queues_dir=queues_dir, client_id=car_id, log_level=LOG_ERROR)\n",
    "    telemetry_sender = TelemetrySender(\n",
    "        queues_dir=queues_dir, client_id=car_id, log_level=LOG_ERROR)\n",
    "\n",
    "mission_planner = MissionPlanner(\n",
    "    queues_dir, afcs_present=afcs_present, mission=mission)\n",
    "\n",
    "sitl = SITL(\n",
    "    queues_dir=queues_dir, position=home,\n",
    "    car_id=car_id, post_telemetry=afcs_present, log_level=LOG_ERROR)\n",
    "\n",
    "communication_gateway = CommunicationGateway(\n",
    "    queues_dir=queues_dir, log_level=LOG_ERROR)\n",
    "control_system = ControlSystem(queues_dir=queues_dir, log_level=LOG_INFO)\n",
    "\n",
    "navigation_system = NavigationSystem(\n",
    "    queues_dir=queues_dir, log_level=LOG_ERROR)\n",
    "\n",
    "servos = Servos(queues_dir=queues_dir, log_level=LOG_ERROR)\n",
    "cargo_bay = CargoBay(queues_dir=queues_dir, log_level=LOG_INFO)\n",
    "\n",
    "# у нас получилось довольно много блоков, используем класс SystemComponentsContainer\n",
    "# для упрощения рутинной работы с ними - таким образом мы собираем все блоки машинки в одном \"кузове\"\n",
    "system_components = SystemComponentsContainer(\n",
    "    components=[\n",
    "        mission_sender,\n",
    "        telemetry_sender,\n",
    "        sitl,\n",
    "        mission_planner,\n",
    "        navigation_system,\n",
    "        servos,\n",
    "        cargo_bay,\n",
    "        communication_gateway,\n",
    "        control_system\n",
    "    ] if afcs_present else [\n",
    "        sitl,\n",
    "        mission_planner,\n",
    "        navigation_system,\n",
    "        servos,\n",
    "        cargo_bay,\n",
    "        communication_gateway,\n",
    "        control_system\n",
    "    ])\n",
    "\n",
    "system_components.start()\n",
    "\n",
    "# ограничение поездки по времени\n",
    "# параметр sleep - время в секундах,\n",
    "# настройте этот параметр так, чтобы ваша машинка завершила маршрут\n",
    "# в случае превышения времени выполнения ячейки на более чем 10 секунд от заданного, \n",
    "# допустимо перезапустить вычислительное ядро и повторно выполнить весь блокнот, штрафные очки за это не начисляются\n",
    "# при условии, что повторный запуск закончился успешно\n",
    "sleep(180)\n",
    "\n",
    "# останавливаем все компоненты\n",
    "system_components.stop()\n",
    "\n",
    "# удалим все созданные компоненты\n",
    "system_components.clean()"
   ]
  },
  {
   "cell_type": "markdown",
   "metadata": {},
   "source": [
    "На этом модуль 2 завершён, надеемся, у вас всё получилось! \n",
    "На что можно ещё обратить вниманием - можно ли как-то улучшить маршрут для ускорения доставки? (без нарушения ПДД) - например, использовать более скоростные трассы или срезать какие-то участки.\n",
    "\n",
    "Если идей быстрых улучшений нет, то пришло время перейти к самому интересному модулю и познакомиться с киберпрепятствиями!\n",
    "\n",
    "Для работы над модулем 3 задания откройте блокнот cyberimmunity--autonomous-car-m3."
   ]
  },
  {
   "cell_type": "markdown",
   "metadata": {},
   "source": []
  }
 ],
 "metadata": {
  "datalore": {
   "base_environment": "default",
   "computation_mode": "JUPYTER",
   "package_manager": "pip",
   "packages": [],
   "version": 1
  },
  "kernelspec": {
   "display_name": "Python 3",
   "language": "python",
   "name": "python3"
  },
  "language_info": {
   "codemirror_mode": {
    "name": "ipython",
    "version": 3
   },
   "file_extension": ".py",
   "mimetype": "text/x-python",
   "name": "python",
   "nbconvert_exporter": "python",
   "pygments_lexer": "ipython3",
   "version": "3.12.1"
  }
 },
 "nbformat": 4,
 "nbformat_minor": 4
}
